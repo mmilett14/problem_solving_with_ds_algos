{
 "cells": [
  {
   "cell_type": "code",
   "execution_count": 21,
   "id": "654ce3e0-bb9d-4466-b43a-2dcf8f840598",
   "metadata": {},
   "outputs": [],
   "source": [
    "def gcd(m, n):\n",
    "    while m % n != 0:\n",
    "        old_m = m\n",
    "        old_n = n\n",
    "\n",
    "        m = old_n\n",
    "        n = old_m % old_n\n",
    "\n",
    "    return n"
   ]
  },
  {
   "cell_type": "code",
   "execution_count": 91,
   "id": "6797af96-21ef-493d-8ada-c8ec6703b64a",
   "metadata": {},
   "outputs": [],
   "source": [
    "class Fraction:\n",
    "    \n",
    "    def __init__(self, top, bottom):\n",
    "        common = gcd(top, bottom)\n",
    "        self.num = top // common\n",
    "        self.den = bottom // common\n",
    "        \n",
    "    def __str__(self):\n",
    "        return str(self.num) + \"/\" + str(self.den)\n",
    "    \n",
    "    def __add__(self, other_fraction):\n",
    "        new_num = (self.num * other_fraction.den) + (self.den * other_fraction.num)\n",
    "        new_den = self.den * other_fraction.den\n",
    "        \n",
    "        return Fraction(new_num, new_den)\n",
    "    \n",
    "    def __sub__(self, other):\n",
    "        new_num = (self.num * other.den) - (self.den * other.num)\n",
    "        new_den = self.den * other.den\n",
    "        \n",
    "        return Fraction(new_num, new_den)\n",
    "    \n",
    "    def __mul__(self, other):\n",
    "        new_num = self.num * other.num\n",
    "        new_den = self.den * other.den\n",
    "        \n",
    "        return Fraction(new_num, new_den)\n",
    "    \n",
    "    def __truediv__(self, other):\n",
    "        new_num = self.num * other.den\n",
    "        new_den = self.den * other.num\n",
    "        \n",
    "        return Fraction(new_num, new_den)\n",
    "    \n",
    "    def __eq__(self, other):\n",
    "        first_num = self.num * other.den\n",
    "        second_num = other.num * self.den\n",
    "        \n",
    "        return first_num == second_num\n",
    "    \n",
    "    def __lt__(self, other):\n",
    "        first_num = self.num * other.den\n",
    "        second_num = other.num * self.den\n",
    "        \n",
    "        return first_num < second_num\n",
    "    \n",
    "    def __le__(self, other):\n",
    "        first_num = self.num * other.den\n",
    "        second_num = other.num * self.den\n",
    "        \n",
    "        return first_num <= second_num\n",
    "\n",
    "    def __gt__(self, other):\n",
    "        first_num = self.num * other.den\n",
    "        second_num = other.num * self.den\n",
    "        \n",
    "        return first_num > second_num\n",
    "    \n",
    "    def __ge__(self, other):\n",
    "        first_num = self.num * other.den\n",
    "        second_num = other.num * self.den\n",
    "        \n",
    "        return first_num >= second_num\n",
    "    \n",
    "    def get_num(self):\n",
    "        return self.num\n",
    "    \n",
    "    def get_den(self):\n",
    "        return self.den"
   ]
  },
  {
   "cell_type": "code",
   "execution_count": 92,
   "id": "455fba23-a6a8-4e7d-90b7-e30ebdc1a237",
   "metadata": {},
   "outputs": [],
   "source": [
    "f1 = Fraction(1, 4)"
   ]
  },
  {
   "cell_type": "code",
   "execution_count": 93,
   "id": "cf8a6d17-1fe4-4e45-bbcb-643ca516d3f5",
   "metadata": {},
   "outputs": [],
   "source": [
    "f2 = Fraction(1, 2)"
   ]
  },
  {
   "cell_type": "code",
   "execution_count": 94,
   "id": "e845b4f4-6066-4642-bb55-c3a56c0cf761",
   "metadata": {},
   "outputs": [],
   "source": [
    "f3 = Fraction(10, 2)"
   ]
  },
  {
   "cell_type": "code",
   "execution_count": 95,
   "id": "f984818c-c478-45bc-9303-25c5291bf43e",
   "metadata": {},
   "outputs": [],
   "source": [
    "f4 = Fraction(1, 2)"
   ]
  },
  {
   "cell_type": "code",
   "execution_count": 86,
   "id": "5d5f8df4-ca20-4ac2-a26d-8c024efb3ad4",
   "metadata": {},
   "outputs": [
    {
     "name": "stdout",
     "output_type": "stream",
     "text": [
      "5/1\n"
     ]
    }
   ],
   "source": [
    "print(f3)"
   ]
  },
  {
   "cell_type": "code",
   "execution_count": 87,
   "id": "a9292923-bc4a-4ca7-bf8f-fa5e47ab9917",
   "metadata": {},
   "outputs": [
    {
     "name": "stdout",
     "output_type": "stream",
     "text": [
      "3/4\n"
     ]
    }
   ],
   "source": [
    "print(f1 + f2)"
   ]
  },
  {
   "cell_type": "code",
   "execution_count": 88,
   "id": "eb198304-8a7c-4c84-a908-4f602e0b63e4",
   "metadata": {},
   "outputs": [
    {
     "name": "stdout",
     "output_type": "stream",
     "text": [
      "-1/4\n"
     ]
    }
   ],
   "source": [
    "print(f1 - f2)"
   ]
  },
  {
   "cell_type": "code",
   "execution_count": 89,
   "id": "a9d97fbd-d57f-4b2f-a65f-046e8c92d4f0",
   "metadata": {},
   "outputs": [
    {
     "name": "stdout",
     "output_type": "stream",
     "text": [
      "1/8\n"
     ]
    }
   ],
   "source": [
    "print(f1 * f2)"
   ]
  },
  {
   "cell_type": "code",
   "execution_count": 96,
   "id": "a9dc2ac1-c698-4176-9977-2741e742216c",
   "metadata": {
    "tags": []
   },
   "outputs": [
    {
     "name": "stdout",
     "output_type": "stream",
     "text": [
      "1/2\n"
     ]
    }
   ],
   "source": [
    "print(f1 / f2)"
   ]
  },
  {
   "cell_type": "code",
   "execution_count": 29,
   "id": "2fc41fcf-6dfa-443e-ac7e-f34ebbdafb3b",
   "metadata": {},
   "outputs": [
    {
     "name": "stdout",
     "output_type": "stream",
     "text": [
      "False\n"
     ]
    }
   ],
   "source": [
    "print(f1 == f2)"
   ]
  },
  {
   "cell_type": "code",
   "execution_count": 41,
   "id": "3036a7ed-bc6f-47ba-8acc-2f91c0fcfad4",
   "metadata": {},
   "outputs": [
    {
     "name": "stdout",
     "output_type": "stream",
     "text": [
      "True\n"
     ]
    }
   ],
   "source": [
    "print(f1 < f2)"
   ]
  },
  {
   "cell_type": "code",
   "execution_count": 97,
   "id": "10f5969d-b1e0-419f-ad1b-bb1eafaa79a8",
   "metadata": {},
   "outputs": [
    {
     "name": "stdout",
     "output_type": "stream",
     "text": [
      "True\n"
     ]
    }
   ],
   "source": [
    "print(f2 <= f4)"
   ]
  },
  {
   "cell_type": "code",
   "execution_count": 45,
   "id": "ae64672d-613e-4b60-be79-f21c59364dc8",
   "metadata": {},
   "outputs": [
    {
     "name": "stdout",
     "output_type": "stream",
     "text": [
      "False\n"
     ]
    }
   ],
   "source": [
    "print(f1 > f2)"
   ]
  },
  {
   "cell_type": "code",
   "execution_count": 98,
   "id": "96594962-18bd-41f4-b0ff-113b9b4d5a9d",
   "metadata": {},
   "outputs": [
    {
     "name": "stdout",
     "output_type": "stream",
     "text": [
      "True\n"
     ]
    }
   ],
   "source": [
    "print(f2 >= f4)"
   ]
  },
  {
   "cell_type": "code",
   "execution_count": 71,
   "id": "403ca7bc-f691-439c-b15c-da01bd5a5bfa",
   "metadata": {},
   "outputs": [
    {
     "data": {
      "text/plain": [
       "1"
      ]
     },
     "execution_count": 71,
     "metadata": {},
     "output_type": "execute_result"
    }
   ],
   "source": [
    "f1.get_num()"
   ]
  },
  {
   "cell_type": "code",
   "execution_count": 75,
   "id": "bcf9f4a4-dc8d-4d7b-9327-806fd7628deb",
   "metadata": {},
   "outputs": [
    {
     "data": {
      "text/plain": [
       "4"
      ]
     },
     "execution_count": 75,
     "metadata": {},
     "output_type": "execute_result"
    }
   ],
   "source": [
    "f1.get_den()"
   ]
  }
 ],
 "metadata": {
  "kernelspec": {
   "display_name": "Python 3 (ipykernel)",
   "language": "python",
   "name": "python3"
  },
  "language_info": {
   "codemirror_mode": {
    "name": "ipython",
    "version": 3
   },
   "file_extension": ".py",
   "mimetype": "text/x-python",
   "name": "python",
   "nbconvert_exporter": "python",
   "pygments_lexer": "ipython3",
   "version": "3.9.5"
  }
 },
 "nbformat": 4,
 "nbformat_minor": 5
}
