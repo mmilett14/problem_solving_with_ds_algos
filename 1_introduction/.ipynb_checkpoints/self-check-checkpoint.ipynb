{
 "cells": [
  {
   "cell_type": "markdown",
   "id": "46c79fb1-29a0-485b-a401-1d9ba6a8a979",
   "metadata": {},
   "source": [
    "# Chapter 1 - Introduction"
   ]
  },
  {
   "cell_type": "markdown",
   "id": "d2af2d28-7dd3-4817-9f65-76e389cb76e2",
   "metadata": {},
   "source": [
    "### Self Check\n",
    "Test your understanding of what we have covered so far by trying the following two exercises. \n",
    "Use the code below, seen earlier in this subsection.\n",
    "```\n",
    "word_list = ['cat','dog','rabbit']\n",
    "letter_list = [ ]\n",
    "for a_word in word_list:\n",
    "   for a_letter in a_word:\n",
    "      letter_list.append(a_letter)\n",
    "print(letter_list)\n",
    "```"
   ]
  },
  {
   "cell_type": "markdown",
   "id": "1a55313f-c641-46be-8d7e-9b9049673c31",
   "metadata": {},
   "source": [
    "1. Modify the given code so that the final list only contains a single copy of each letter."
   ]
  },
  {
   "cell_type": "code",
   "execution_count": 1,
   "id": "7c14aff6-1e69-49ec-996c-8fc8f7926625",
   "metadata": {},
   "outputs": [],
   "source": [
    "word_list = ['cat','dog','rabbit']\n",
    "letter_list = [ ]"
   ]
  },
  {
   "cell_type": "code",
   "execution_count": 2,
   "id": "947e6137-7aa9-48fc-aba9-49e4611bdb3c",
   "metadata": {},
   "outputs": [
    {
     "name": "stdout",
     "output_type": "stream",
     "text": [
      "['c', 'a', 't', 'd', 'o', 'g', 'r', 'b', 'i']\n"
     ]
    }
   ],
   "source": [
    "for word in word_list:\n",
    "    for letter in word:\n",
    "        if letter not in letter_list:\n",
    "            letter_list.append(letter)\n",
    "print(letter_list)"
   ]
  },
  {
   "cell_type": "markdown",
   "id": "f73f8467-3a65-4a8b-a6fc-eb2177a2ba32",
   "metadata": {},
   "source": [
    "2. Redo the given code using list comprehensions. For an extra challenge, see if you can figure out how to remove the duplicates."
   ]
  },
  {
   "cell_type": "code",
   "execution_count": 5,
   "id": "98c37ba6-7112-4a89-8f73-a639ccf616e0",
   "metadata": {},
   "outputs": [],
   "source": [
    "letter_list = []"
   ]
  },
  {
   "cell_type": "code",
   "execution_count": 21,
   "id": "1990edbe-9cae-4254-af9e-ae06dc866217",
   "metadata": {},
   "outputs": [
    {
     "data": {
      "text/plain": [
       "['cat', 'dog', 'rabbit']"
      ]
     },
     "execution_count": 21,
     "metadata": {},
     "output_type": "execute_result"
    }
   ],
   "source": [
    "word_list"
   ]
  },
  {
   "cell_type": "code",
   "execution_count": 27,
   "id": "49427884-64ff-44e1-aed5-95f5ff068778",
   "metadata": {},
   "outputs": [],
   "source": [
    "letter_list = [word for word in word_list]"
   ]
  },
  {
   "cell_type": "code",
   "execution_count": 28,
   "id": "0fd6fd06-96c5-4959-8a1f-46c163fe5b00",
   "metadata": {},
   "outputs": [
    {
     "data": {
      "text/plain": [
       "['cat', 'dog', 'rabbit']"
      ]
     },
     "execution_count": 28,
     "metadata": {},
     "output_type": "execute_result"
    }
   ],
   "source": [
    "letter_list"
   ]
  },
  {
   "cell_type": "code",
   "execution_count": 42,
   "id": "91f07991-d896-4b5c-96d2-73137ebad427",
   "metadata": {},
   "outputs": [
    {
     "data": {
      "text/plain": [
       "['c', 'a', 't']"
      ]
     },
     "execution_count": 42,
     "metadata": {},
     "output_type": "execute_result"
    }
   ],
   "source": [
    "[letter for letter in word_list[0]]"
   ]
  },
  {
   "cell_type": "markdown",
   "id": "b3436d42-6e4a-4e95-8f25-49c1a3c381d4",
   "metadata": {},
   "source": [
    "### Self Check"
   ]
  },
  {
   "cell_type": "markdown",
   "id": "1b59a04f-1284-4636-a883-678c2df3fd8e",
   "metadata": {},
   "source": [
    "Here is a self check that really covers everything so far. You may have heard of the infinite monkey theorem? The theorem states that a monkey hitting keys at random on a typewriter keyboard for an infinite amount of time will almost surely type a given text, such as the com- plete works of William Shakespeare. Well, suppose we replace a monkey with a Python func- tion. How long do you think it would take for a Python function to generate just one sentence of Shakespeare? The sentence we’ll shoot for is: “methinks it is like a weasel” <br><br>\n",
    "You are not going to want to run this one in the browser, so fire up your favorite Python IDE. The way we will simulate this is to write a function that generates a string that is 27 characters long by choosing random letters from the 26 letters in the alphabet plus the space. We will write another function that will score each generated string by comparing the randomly generated string to the goal. <br><br>\n",
    "A third function will repeatedly call generate and score, then if 100% of the letters are correct we are done. If the letters are not correct then we will generate a whole new string. To make it easier to follow your program’s progress this third function should print out the best string generated so far and its score every 1000 tries."
   ]
  },
  {
   "cell_type": "code",
   "execution_count": 40,
   "id": "8f499d57-2a2d-49c6-a2f2-66fcbe94df06",
   "metadata": {},
   "outputs": [],
   "source": [
    "from random import randint"
   ]
  },
  {
   "cell_type": "code",
   "execution_count": 120,
   "id": "a1b3e4c7-5a5c-4ba6-bb02-f01bcd019fae",
   "metadata": {},
   "outputs": [],
   "source": [
    "target = 'methinks it is like a weasel'"
   ]
  },
  {
   "cell_type": "code",
   "execution_count": 39,
   "id": "0a7f0a8a-35ce-4e18-9ae0-65841d125491",
   "metadata": {},
   "outputs": [],
   "source": [
    "def verse_gen(target):\n",
    "    alpha_list = ['a', 'b', 'c', 'd', 'e', 'f', 'g', 'h', 'i', 'j', 'k', 'l', 'm', 'n', 'o', 'p', 'q', 'r', 's', 't', 'u', 'v', 'w', 'x', 'y', 'z', ' ']\n",
    "    verse = ''\n",
    "    for i in range(len(target)):\n",
    "        char = alpha_list[randint(0, len(alpha_list)-1)]\n",
    "        verse += char\n",
    "    return verse"
   ]
  },
  {
   "cell_type": "code",
   "execution_count": 5,
   "id": "e9c6205d-9a7d-4eea-951b-f4d466a1c130",
   "metadata": {},
   "outputs": [],
   "source": [
    "def verse_score(target, verse):\n",
    "    score = 0\n",
    "\n",
    "    for i in range(len(target)):\n",
    "        if verse[i] == target[i]:\n",
    "            score += 1\n",
    "    \n",
    "    return score\n",
    "    "
   ]
  },
  {
   "cell_type": "code",
   "execution_count": 37,
   "id": "75234be2-f161-4818-b460-4c28bad856aa",
   "metadata": {},
   "outputs": [],
   "source": [
    "def verse_sim(target):\n",
    "    \n",
    "    perfect_score = len(target)\n",
    "    high_score = 0\n",
    "    best_verse = ''\n",
    "    counter = 0\n",
    "    \n",
    "    while high_score < perfect_score:\n",
    "        verse = verse_gen(target)\n",
    "        score = verse_score(target, verse)\n",
    "        \n",
    "        if score > high_score:\n",
    "            high_score = score\n",
    "            best_verse = verse\n",
    "        \n",
    "        if counter % 1000 == 0:\n",
    "            print(f'on try {counter}, {best_verse} is best with score {high_score}')\n",
    "        \n",
    "        counter += 1\n",
    "    \n",
    "    print(f'it took {counter} tries to match the target.')\n",
    "            \n",
    "    "
   ]
  },
  {
   "cell_type": "code",
   "execution_count": null,
   "id": "ff808c40-14b2-4ecc-8332-be46262253fe",
   "metadata": {},
   "outputs": [],
   "source": [
    "verse_sim('methinks it is like a weasel')"
   ]
  },
  {
   "cell_type": "markdown",
   "id": "1af9203c-f203-4d03-9288-ededf466d4c1",
   "metadata": {},
   "source": [
    "See if you can improve upon the program in the self check by keeping letters that are correct and only modifying one character in the best string so far. This is a type of algorithm in the class of “hill climbing” algorithms, that is we only keep the result if it is better than the previous one."
   ]
  },
  {
   "cell_type": "code",
   "execution_count": 43,
   "id": "64963c24-9f2f-4f19-b2d3-2f195dca3ecf",
   "metadata": {},
   "outputs": [],
   "source": [
    "def verse_sim_hill(target):\n",
    "    \n",
    "    alpha_list = ['a', 'b', 'c', 'd', 'e', 'f', 'g', 'h', 'i', 'j', 'k', 'l', 'm', 'n', 'o', 'p', 'q', 'r', 's', 't', 'u', 'v', 'w', 'x', 'y', 'z', ' ']\n",
    "    \n",
    "    perfect_score = len(target)\n",
    "    high_score = 0\n",
    "    best_verse = ''\n",
    "    counter = 0\n",
    "    letter = 'a'\n",
    "    \n",
    "    verse = verse_gen(target)\n",
    "    verse_final = ''\n",
    "    \n",
    "    while high_score < perfect_score:\n",
    "        \n",
    "        for i in range(perfect_score):\n",
    "            if verse[i] == target[i]:\n",
    "                verse_final += verse[i]\n",
    "                high_score += 1\n",
    "            \n",
    "            else:\n",
    "                while letter != target[i]:\n",
    "                    letter = alpha_list[randint(0, len(alpha_list)-1)]\n",
    "                \n",
    "                verse_final += letter\n",
    "                high_score += 1\n",
    "        \n",
    "    return(verse_final)\n",
    "    "
   ]
  },
  {
   "cell_type": "code",
   "execution_count": 45,
   "id": "972ecb34-2ce4-4c95-b032-3211e46a4ef4",
   "metadata": {},
   "outputs": [
    {
     "data": {
      "text/plain": [
       "'methinks it is like a weasel'"
      ]
     },
     "execution_count": 45,
     "metadata": {},
     "output_type": "execute_result"
    }
   ],
   "source": [
    "verse_sim_hill('methinks it is like a weasel')"
   ]
  }
 ],
 "metadata": {
  "kernelspec": {
   "display_name": "Python 3 (ipykernel)",
   "language": "python",
   "name": "python3"
  },
  "language_info": {
   "codemirror_mode": {
    "name": "ipython",
    "version": 3
   },
   "file_extension": ".py",
   "mimetype": "text/x-python",
   "name": "python",
   "nbconvert_exporter": "python",
   "pygments_lexer": "ipython3",
   "version": "3.9.5"
  }
 },
 "nbformat": 4,
 "nbformat_minor": 5
}
