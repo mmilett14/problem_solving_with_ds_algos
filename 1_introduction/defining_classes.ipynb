{
 "cells": [
  {
   "cell_type": "code",
   "execution_count": 21,
   "id": "654ce3e0-bb9d-4466-b43a-2dcf8f840598",
   "metadata": {},
   "outputs": [],
   "source": [
    "def gcd(m, n):\n",
    "    while m % n != 0:\n",
    "        old_m = m\n",
    "        old_n = n\n",
    "\n",
    "        m = old_n\n",
    "        n = old_m % old_n\n",
    "\n",
    "    return n"
   ]
  },
  {
   "cell_type": "code",
   "execution_count": 62,
   "id": "6797af96-21ef-493d-8ada-c8ec6703b64a",
   "metadata": {},
   "outputs": [],
   "source": [
    "class Fraction:\n",
    "    \n",
    "    def __init__(self, top, bottom):\n",
    "        self.num = top\n",
    "        self.den = bottom\n",
    "    \n",
    "    def __str__(self):\n",
    "        return str(self.num) + \"/\" + str(self.den)\n",
    "    \n",
    "    def __add__(self, other_fraction):\n",
    "        new_num = (self.num * other_fraction.den) + (self.den * other_fraction.num)\n",
    "        new_den = self.den * other_fraction.den\n",
    "        common = gcd(new_num, new_den)\n",
    "        \n",
    "        return Fraction(new_num // common, new_den // common)\n",
    "    \n",
    "    def __sub__(self, other):\n",
    "        new_num = (self.num * other.den) - (self.den * other.num)\n",
    "        new_den = self.den * other.den\n",
    "        common = gcd(new_num, new_den)\n",
    "        \n",
    "        return Fraction(new_num // common, new_den // common)\n",
    "    \n",
    "    def __mul__(self, other):\n",
    "        new_num = self.num * other.num\n",
    "        new_den = self.den * other.den\n",
    "        common = gcd(new_num, new_den)\n",
    "        \n",
    "        return Fraction(new_num // common, new_den // common)\n",
    "    \n",
    "    def __truediv__(self, other):\n",
    "        new_num = self.num * other.den\n",
    "        new_den = self.den * other.num\n",
    "        common = gcd(new_num, new_den)\n",
    "        \n",
    "        return Fraction(new_num // common, new_den // common)\n",
    "    \n",
    "    def __eq__(self, other):\n",
    "        first_num = self.num * other.den\n",
    "        second_num = other.num * self.den\n",
    "        \n",
    "        return first_num == second_num\n",
    "    \n",
    "    def __lt__(self, other):\n",
    "        first_num = self.num * other.den\n",
    "        second_num = other.num * self.den\n",
    "        \n",
    "        return first_num < second_num\n",
    "\n",
    "    def __gt__(self, other):\n",
    "        first_num = self.num * other.den\n",
    "        second_num = other.num * self.den\n",
    "        \n",
    "        return first_num > second_num"
   ]
  },
  {
   "cell_type": "code",
   "execution_count": 63,
   "id": "455fba23-a6a8-4e7d-90b7-e30ebdc1a237",
   "metadata": {},
   "outputs": [],
   "source": [
    "f1 = Fraction(1, 4)"
   ]
  },
  {
   "cell_type": "code",
   "execution_count": 64,
   "id": "cf8a6d17-1fe4-4e45-bbcb-643ca516d3f5",
   "metadata": {},
   "outputs": [],
   "source": [
    "f2 = Fraction(1, 2)"
   ]
  },
  {
   "cell_type": "code",
   "execution_count": 30,
   "id": "a9292923-bc4a-4ca7-bf8f-fa5e47ab9917",
   "metadata": {},
   "outputs": [
    {
     "name": "stdout",
     "output_type": "stream",
     "text": [
      "3/4\n"
     ]
    }
   ],
   "source": [
    "print(f1 + f2)"
   ]
  },
  {
   "cell_type": "code",
   "execution_count": 67,
   "id": "eb198304-8a7c-4c84-a908-4f602e0b63e4",
   "metadata": {},
   "outputs": [
    {
     "name": "stdout",
     "output_type": "stream",
     "text": [
      "-1/4\n"
     ]
    }
   ],
   "source": [
    "print(f1 - f2)"
   ]
  },
  {
   "cell_type": "code",
   "execution_count": 49,
   "id": "a9d97fbd-d57f-4b2f-a65f-046e8c92d4f0",
   "metadata": {},
   "outputs": [
    {
     "name": "stdout",
     "output_type": "stream",
     "text": [
      "1/8\n"
     ]
    }
   ],
   "source": [
    "print(f1 * f2)"
   ]
  },
  {
   "cell_type": "code",
   "execution_count": 55,
   "id": "26f3d19b-cd9e-4d16-bd3f-fed838471b07",
   "metadata": {},
   "outputs": [
    {
     "name": "stdout",
     "output_type": "stream",
     "text": [
      "1/2\n"
     ]
    }
   ],
   "source": [
    "print(f1 / f2)"
   ]
  },
  {
   "cell_type": "code",
   "execution_count": 29,
   "id": "2fc41fcf-6dfa-443e-ac7e-f34ebbdafb3b",
   "metadata": {},
   "outputs": [
    {
     "name": "stdout",
     "output_type": "stream",
     "text": [
      "False\n"
     ]
    }
   ],
   "source": [
    "print(f1 == f2)"
   ]
  },
  {
   "cell_type": "code",
   "execution_count": 41,
   "id": "3036a7ed-bc6f-47ba-8acc-2f91c0fcfad4",
   "metadata": {},
   "outputs": [
    {
     "name": "stdout",
     "output_type": "stream",
     "text": [
      "True\n"
     ]
    }
   ],
   "source": [
    "print(f1 < f2)"
   ]
  },
  {
   "cell_type": "code",
   "execution_count": 45,
   "id": "ae64672d-613e-4b60-be79-f21c59364dc8",
   "metadata": {},
   "outputs": [
    {
     "name": "stdout",
     "output_type": "stream",
     "text": [
      "False\n"
     ]
    }
   ],
   "source": [
    "print(f1 > f2)"
   ]
  }
 ],
 "metadata": {
  "kernelspec": {
   "display_name": "Python 3 (ipykernel)",
   "language": "python",
   "name": "python3"
  },
  "language_info": {
   "codemirror_mode": {
    "name": "ipython",
    "version": 3
   },
   "file_extension": ".py",
   "mimetype": "text/x-python",
   "name": "python",
   "nbconvert_exporter": "python",
   "pygments_lexer": "ipython3",
   "version": "3.9.5"
  }
 },
 "nbformat": 4,
 "nbformat_minor": 5
}
